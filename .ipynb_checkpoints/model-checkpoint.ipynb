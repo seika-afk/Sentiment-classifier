{
 "cells": [
  {
   "cell_type": "code",
   "execution_count": 32,
   "id": "19daf9b4-d70e-4b45-b1c4-e9279cfc08ba",
   "metadata": {},
   "outputs": [],
   "source": [
    "import pandas as pd\n",
    "import numpy as np \n"
   ]
  },
  {
   "cell_type": "code",
   "execution_count": 33,
   "id": "51e3a7d4-69b1-459f-9e1d-1f18ae12f848",
   "metadata": {},
   "outputs": [],
   "source": [
    "df=pd.read_csv(\"reddit_relationships_dataset.csv\")"
   ]
  },
  {
   "cell_type": "code",
   "execution_count": 34,
   "id": "d5b7f4ae-5691-421d-b4ff-6f5f1c5254a2",
   "metadata": {},
   "outputs": [
    {
     "data": {
      "text/plain": [
       "(10000, 3)"
      ]
     },
     "execution_count": 34,
     "metadata": {},
     "output_type": "execute_result"
    }
   ],
   "source": [
    "df.shape"
   ]
  },
  {
   "cell_type": "code",
   "execution_count": 35,
   "id": "19427cae-d296-4a91-b4d9-860615c48a06",
   "metadata": {},
   "outputs": [
    {
     "data": {
      "text/html": [
       "<div>\n",
       "<style scoped>\n",
       "    .dataframe tbody tr th:only-of-type {\n",
       "        vertical-align: middle;\n",
       "    }\n",
       "\n",
       "    .dataframe tbody tr th {\n",
       "        vertical-align: top;\n",
       "    }\n",
       "\n",
       "    .dataframe thead th {\n",
       "        text-align: right;\n",
       "    }\n",
       "</style>\n",
       "<table border=\"1\" class=\"dataframe\">\n",
       "  <thead>\n",
       "    <tr style=\"text-align: right;\">\n",
       "      <th></th>\n",
       "      <th>subreddit</th>\n",
       "      <th>title</th>\n",
       "      <th>text</th>\n",
       "    </tr>\n",
       "  </thead>\n",
       "  <tbody>\n",
       "    <tr>\n",
       "      <th>0</th>\n",
       "      <td>romance</td>\n",
       "      <td>Should I propose now?</td>\n",
       "      <td>Every time I bring up serious topics, he shuts...</td>\n",
       "    </tr>\n",
       "    <tr>\n",
       "      <th>1</th>\n",
       "      <td>breakups</td>\n",
       "      <td>Am I overthinking this?</td>\n",
       "      <td>She still talks to her ex and I'm not sure how...</td>\n",
       "    </tr>\n",
       "    <tr>\n",
       "      <th>2</th>\n",
       "      <td>relationships</td>\n",
       "      <td>First date went weird</td>\n",
       "      <td>I'm scared of being alone, but I don't want to...</td>\n",
       "    </tr>\n",
       "    <tr>\n",
       "      <th>3</th>\n",
       "      <td>crushes</td>\n",
       "      <td>Should I move on?</td>\n",
       "      <td>We've been together for 2 years and things are...</td>\n",
       "    </tr>\n",
       "    <tr>\n",
       "      <th>4</th>\n",
       "      <td>breakups</td>\n",
       "      <td>Caught my partner cheating</td>\n",
       "      <td>He's amazing but I feel like I'm not ready to ...</td>\n",
       "    </tr>\n",
       "  </tbody>\n",
       "</table>\n",
       "</div>"
      ],
      "text/plain": [
       "       subreddit                       title  \\\n",
       "0        romance       Should I propose now?   \n",
       "1       breakups     Am I overthinking this?   \n",
       "2  relationships       First date went weird   \n",
       "3        crushes           Should I move on?   \n",
       "4       breakups  Caught my partner cheating   \n",
       "\n",
       "                                                text  \n",
       "0  Every time I bring up serious topics, he shuts...  \n",
       "1  She still talks to her ex and I'm not sure how...  \n",
       "2  I'm scared of being alone, but I don't want to...  \n",
       "3  We've been together for 2 years and things are...  \n",
       "4  He's amazing but I feel like I'm not ready to ...  "
      ]
     },
     "execution_count": 35,
     "metadata": {},
     "output_type": "execute_result"
    }
   ],
   "source": [
    "df.head()"
   ]
  },
  {
   "cell_type": "code",
   "execution_count": 36,
   "id": "2eaa4554-a690-40db-936e-dd42ef727561",
   "metadata": {},
   "outputs": [],
   "source": [
    "df.drop(columns=[\"title\"],inplace=True)"
   ]
  },
  {
   "cell_type": "code",
   "execution_count": 37,
   "id": "3609f34e-7c50-4dbf-b26a-108f1bdcbccc",
   "metadata": {},
   "outputs": [
    {
     "data": {
      "text/html": [
       "<div>\n",
       "<style scoped>\n",
       "    .dataframe tbody tr th:only-of-type {\n",
       "        vertical-align: middle;\n",
       "    }\n",
       "\n",
       "    .dataframe tbody tr th {\n",
       "        vertical-align: top;\n",
       "    }\n",
       "\n",
       "    .dataframe thead th {\n",
       "        text-align: right;\n",
       "    }\n",
       "</style>\n",
       "<table border=\"1\" class=\"dataframe\">\n",
       "  <thead>\n",
       "    <tr style=\"text-align: right;\">\n",
       "      <th></th>\n",
       "      <th>subreddit</th>\n",
       "      <th>text</th>\n",
       "    </tr>\n",
       "  </thead>\n",
       "  <tbody>\n",
       "    <tr>\n",
       "      <th>0</th>\n",
       "      <td>romance</td>\n",
       "      <td>Every time I bring up serious topics, he shuts...</td>\n",
       "    </tr>\n",
       "    <tr>\n",
       "      <th>1</th>\n",
       "      <td>breakups</td>\n",
       "      <td>She still talks to her ex and I'm not sure how...</td>\n",
       "    </tr>\n",
       "    <tr>\n",
       "      <th>2</th>\n",
       "      <td>relationships</td>\n",
       "      <td>I'm scared of being alone, but I don't want to...</td>\n",
       "    </tr>\n",
       "    <tr>\n",
       "      <th>3</th>\n",
       "      <td>crushes</td>\n",
       "      <td>We've been together for 2 years and things are...</td>\n",
       "    </tr>\n",
       "    <tr>\n",
       "      <th>4</th>\n",
       "      <td>breakups</td>\n",
       "      <td>He's amazing but I feel like I'm not ready to ...</td>\n",
       "    </tr>\n",
       "  </tbody>\n",
       "</table>\n",
       "</div>"
      ],
      "text/plain": [
       "       subreddit                                               text\n",
       "0        romance  Every time I bring up serious topics, he shuts...\n",
       "1       breakups  She still talks to her ex and I'm not sure how...\n",
       "2  relationships  I'm scared of being alone, but I don't want to...\n",
       "3        crushes  We've been together for 2 years and things are...\n",
       "4       breakups  He's amazing but I feel like I'm not ready to ..."
      ]
     },
     "execution_count": 37,
     "metadata": {},
     "output_type": "execute_result"
    }
   ],
   "source": [
    "df.head()\n"
   ]
  },
  {
   "cell_type": "code",
   "execution_count": 38,
   "id": "2d26c6bb-21be-454a-8c92-fab943dae2c7",
   "metadata": {},
   "outputs": [
    {
     "data": {
      "text/plain": [
       "subreddit\n",
       "relationships    1291\n",
       "infidelity       1282\n",
       "romance          1274\n",
       "longdistance     1265\n",
       "dating           1260\n",
       "breakups         1225\n",
       "marriage         1202\n",
       "crushes          1201\n",
       "Name: count, dtype: int64"
      ]
     },
     "execution_count": 38,
     "metadata": {},
     "output_type": "execute_result"
    }
   ],
   "source": [
    "df[\"subreddit\"].value_counts()"
   ]
  },
  {
   "cell_type": "code",
   "execution_count": 39,
   "id": "ad3a4205-fa3b-4c9f-bf87-3a94f6ecec0b",
   "metadata": {},
   "outputs": [],
   "source": [
    "#converting output into labels"
   ]
  },
  {
   "cell_type": "code",
   "execution_count": 40,
   "id": "6b13be11-7fb5-4b8f-9895-b178d4c21209",
   "metadata": {},
   "outputs": [
    {
     "name": "stdout",
     "output_type": "stream",
     "text": [
      "{'breakups': 0, 'crushes': 1, 'dating': 2, 'infidelity': 3, 'longdistance': 4, 'marriage': 5, 'relationships': 6, 'romance': 7}\n"
     ]
    }
   ],
   "source": [
    "from sklearn.preprocessing import LabelEncoder\n",
    "le=LabelEncoder()\n",
    "\n",
    "df[\"subreddit\"]=le.fit_transform(df[\"subreddit\"])\n",
    "mapping = dict(zip(le.classes_, range(len(le.classes_))))\n",
    "\n",
    "# Display the mapping\n",
    "print(mapping)"
   ]
  },
  {
   "cell_type": "code",
   "execution_count": 41,
   "id": "f793a86b-458d-4339-837a-54147e21356a",
   "metadata": {},
   "outputs": [],
   "source": [
    "# {'breakups': 0, 'crushes': 1, 'dating': 2, 'infidelity': 3\n",
    "# , 'longdistance': 4, 'marriage': 5, 'relationships': 6, 'romance': 7}"
   ]
  },
  {
   "cell_type": "code",
   "execution_count": 42,
   "id": "7afbf38f-1c8d-4c82-b244-653b34dea114",
   "metadata": {},
   "outputs": [
    {
     "data": {
      "text/html": [
       "<div>\n",
       "<style scoped>\n",
       "    .dataframe tbody tr th:only-of-type {\n",
       "        vertical-align: middle;\n",
       "    }\n",
       "\n",
       "    .dataframe tbody tr th {\n",
       "        vertical-align: top;\n",
       "    }\n",
       "\n",
       "    .dataframe thead th {\n",
       "        text-align: right;\n",
       "    }\n",
       "</style>\n",
       "<table border=\"1\" class=\"dataframe\">\n",
       "  <thead>\n",
       "    <tr style=\"text-align: right;\">\n",
       "      <th></th>\n",
       "      <th>subreddit</th>\n",
       "      <th>text</th>\n",
       "    </tr>\n",
       "  </thead>\n",
       "  <tbody>\n",
       "    <tr>\n",
       "      <th>0</th>\n",
       "      <td>7</td>\n",
       "      <td>Every time I bring up serious topics, he shuts...</td>\n",
       "    </tr>\n",
       "    <tr>\n",
       "      <th>1</th>\n",
       "      <td>0</td>\n",
       "      <td>She still talks to her ex and I'm not sure how...</td>\n",
       "    </tr>\n",
       "    <tr>\n",
       "      <th>2</th>\n",
       "      <td>6</td>\n",
       "      <td>I'm scared of being alone, but I don't want to...</td>\n",
       "    </tr>\n",
       "    <tr>\n",
       "      <th>3</th>\n",
       "      <td>1</td>\n",
       "      <td>We've been together for 2 years and things are...</td>\n",
       "    </tr>\n",
       "    <tr>\n",
       "      <th>4</th>\n",
       "      <td>0</td>\n",
       "      <td>He's amazing but I feel like I'm not ready to ...</td>\n",
       "    </tr>\n",
       "  </tbody>\n",
       "</table>\n",
       "</div>"
      ],
      "text/plain": [
       "   subreddit                                               text\n",
       "0          7  Every time I bring up serious topics, he shuts...\n",
       "1          0  She still talks to her ex and I'm not sure how...\n",
       "2          6  I'm scared of being alone, but I don't want to...\n",
       "3          1  We've been together for 2 years and things are...\n",
       "4          0  He's amazing but I feel like I'm not ready to ..."
      ]
     },
     "execution_count": 42,
     "metadata": {},
     "output_type": "execute_result"
    }
   ],
   "source": [
    "df.head()"
   ]
  },
  {
   "cell_type": "markdown",
   "id": "8c0f1d8e-8f34-4d81-a5b0-38a76b756600",
   "metadata": {},
   "source": [
    "Converting word 2 vec"
   ]
  },
  {
   "cell_type": "code",
   "execution_count": 43,
   "id": "4d603e15-2699-4264-bf62-93ca67588794",
   "metadata": {},
   "outputs": [],
   "source": [
    "#stemming->lower n stuff\n"
   ]
  },
  {
   "cell_type": "code",
   "execution_count": 45,
   "id": "6cc7b455-e1fa-4fde-9e96-9d2d8c21ed2c",
   "metadata": {},
   "outputs": [],
   "source": [
    "from nltk.stem.porter import PorterStemmer\n",
    "porter_stemmer=PorterStemmer()\n",
    "import re\n",
    "from nltk.corpus import stopwords\n",
    "def stemming(content):\n",
    "    st_content= re.sub('[^a-zA-Z]',' ',content)\n",
    "    st_content= st_content.lower()\n",
    "    st_content= st_content.split()\n",
    "    st_content= [porter_stemmer.stem(word) for word in st_content if not word in stopwords.words('english')]\n",
    "    st_content= ' '.join(st_content)\n",
    "    return st_content"
   ]
  },
  {
   "cell_type": "code",
   "execution_count": 46,
   "id": "c26086e8-2ec0-471a-bf69-86f5da3a51c3",
   "metadata": {},
   "outputs": [],
   "source": [
    "df[\"text\"]=df[\"text\"].apply(stemming)"
   ]
  },
  {
   "cell_type": "code",
   "execution_count": 58,
   "id": "cd3f7a03-6476-4378-b050-77f7829ccf77",
   "metadata": {},
   "outputs": [
    {
     "data": {
      "text/html": [
       "<div>\n",
       "<style scoped>\n",
       "    .dataframe tbody tr th:only-of-type {\n",
       "        vertical-align: middle;\n",
       "    }\n",
       "\n",
       "    .dataframe tbody tr th {\n",
       "        vertical-align: top;\n",
       "    }\n",
       "\n",
       "    .dataframe thead th {\n",
       "        text-align: right;\n",
       "    }\n",
       "</style>\n",
       "<table border=\"1\" class=\"dataframe\">\n",
       "  <thead>\n",
       "    <tr style=\"text-align: right;\">\n",
       "      <th></th>\n",
       "      <th>subreddit</th>\n",
       "      <th>text</th>\n",
       "    </tr>\n",
       "  </thead>\n",
       "  <tbody>\n",
       "    <tr>\n",
       "      <th>0</th>\n",
       "      <td>7</td>\n",
       "      <td>everi time bring seriou topic shut complet</td>\n",
       "    </tr>\n",
       "    <tr>\n",
       "      <th>1</th>\n",
       "      <td>0</td>\n",
       "      <td>still talk ex sure feel</td>\n",
       "    </tr>\n",
       "    <tr>\n",
       "      <th>2</th>\n",
       "      <td>6</td>\n",
       "      <td>scare alon want settl either</td>\n",
       "    </tr>\n",
       "    <tr>\n",
       "      <th>3</th>\n",
       "      <td>1</td>\n",
       "      <td>togeth year thing start feel distant</td>\n",
       "    </tr>\n",
       "    <tr>\n",
       "      <th>4</th>\n",
       "      <td>0</td>\n",
       "      <td>amaz feel like readi commit</td>\n",
       "    </tr>\n",
       "  </tbody>\n",
       "</table>\n",
       "</div>"
      ],
      "text/plain": [
       "   subreddit                                        text\n",
       "0          7  everi time bring seriou topic shut complet\n",
       "1          0                     still talk ex sure feel\n",
       "2          6                scare alon want settl either\n",
       "3          1        togeth year thing start feel distant\n",
       "4          0                 amaz feel like readi commit"
      ]
     },
     "execution_count": 58,
     "metadata": {},
     "output_type": "execute_result"
    }
   ],
   "source": [
    "df.head()"
   ]
  },
  {
   "cell_type": "code",
   "execution_count": 16,
   "id": "133f13cd-6ba1-439f-a0ed-114d1389ea38",
   "metadata": {},
   "outputs": [],
   "source": [
    "#vectorizing : i swear porterstemmer is so shit"
   ]
  },
  {
   "cell_type": "code",
   "execution_count": 61,
   "id": "44beec94-8890-4a4c-940b-395f694922b5",
   "metadata": {},
   "outputs": [
    {
     "data": {
      "text/plain": [
       "0       7\n",
       "1       0\n",
       "2       6\n",
       "3       1\n",
       "4       0\n",
       "       ..\n",
       "9995    0\n",
       "9996    5\n",
       "9997    7\n",
       "9998    0\n",
       "9999    1\n",
       "Name: subreddit, Length: 10000, dtype: int64"
      ]
     },
     "execution_count": 61,
     "metadata": {},
     "output_type": "execute_result"
    }
   ],
   "source": [
    "x=df[\"text\"]\n",
    "y=df[\"subreddit\"]"
   ]
  },
  {
   "cell_type": "code",
   "execution_count": 62,
   "id": "053434c2-ee5b-4bb4-a084-0a79624f35c5",
   "metadata": {},
   "outputs": [],
   "source": [
    "from sklearn.feature_extraction.text import TfidfVectorizer\n",
    "\n",
    "vectorizer = TfidfVectorizer()\n",
    "vectorizer.fit(x)\n",
    "x= vectorizer.transform(x)"
   ]
  },
  {
   "cell_type": "code",
   "execution_count": 65,
   "id": "25b58a25-1d16-4f4e-9d7e-a06a1c6f1414",
   "metadata": {},
   "outputs": [],
   "source": [
    "from sklearn.model_selection import train_test_split\n",
    "x_train, x_test, y_train, y_test = train_test_split(x, y, test_size=0.2, random_state=45)"
   ]
  },
  {
   "cell_type": "code",
   "execution_count": null,
   "id": "3cd2ae11-e6a8-4ab6-866c-13afb2dd60fc",
   "metadata": {},
   "outputs": [],
   "source": []
  },
  {
   "cell_type": "code",
   "execution_count": 68,
   "id": "0b521c9c-bc9b-4288-8f55-73119e13ed75",
   "metadata": {},
   "outputs": [],
   "source": [
    "from sklearn.linear_model import LogisticRegression\n",
    "from sklearn.svm import SVC\n",
    "from sklearn.tree import DecisionTreeClassifier\n",
    "from sklearn.ensemble import RandomForestClassifier\n",
    "from sklearn.metrics import accuracy_score,precision_score,recall_score,f1_score,confusion_matrix\n"
   ]
  },
  {
   "cell_type": "code",
   "execution_count": 69,
   "id": "1788aff8-5d40-4632-bf2a-b79b545ae5b6",
   "metadata": {},
   "outputs": [],
   "source": [
    "models= [LogisticRegression,SVC,DecisionTreeClassifier,RandomForestClassifier]"
   ]
  },
  {
   "cell_type": "code",
   "execution_count": 80,
   "id": "71f1c10b-00be-47de-9876-bac3c093fc60",
   "metadata": {},
   "outputs": [
    {
     "name": "stdout",
     "output_type": "stream",
     "text": [
      "Evaluating model : LogisticRegression\n",
      "Evaluating model : SVC\n",
      "Evaluating model : DecisionTreeClassifier\n",
      "Evaluating model : RandomForestClassifier\n"
     ]
    }
   ],
   "source": [
    "accuracy_scores = []\n",
    "precision_scores = []\n",
    "recall_scores = []\n",
    "f1_scores = []\n",
    "for model in models :\n",
    "    print(f\"Evaluating model : {model.__name__}\")\n",
    "\n",
    "    classifier= model().fit(x_train,y_train)\n",
    "    y_pred=classifier.predict(x_test)\n"
   ]
  },
  {
   "cell_type": "code",
   "execution_count": 77,
   "id": "87855ef9-4cbc-429b-8f4b-dee575048dd8",
   "metadata": {},
   "outputs": [
    {
     "data": {
      "text/plain": [
       "array([7])"
      ]
     },
     "execution_count": 77,
     "metadata": {},
     "output_type": "execute_result"
    }
   ],
   "source": [
    "model=LogisticRegression()\n",
    "model.fit(x_train,y_train)\n",
    "text=\"scare alon want settl either\"\n",
    "\n",
    "text=stemming(text)\n",
    "text=vectorizer.transform([text])\n",
    "model.predict(text)\n"
   ]
  },
  {
   "cell_type": "code",
   "execution_count": null,
   "id": "e1a4ae85-e12d-470f-a3d4-435875449aa7",
   "metadata": {},
   "outputs": [],
   "source": []
  }
 ],
 "metadata": {
  "kernelspec": {
   "display_name": "Python 3 (ipykernel)",
   "language": "python",
   "name": "python3"
  },
  "language_info": {
   "codemirror_mode": {
    "name": "ipython",
    "version": 3
   },
   "file_extension": ".py",
   "mimetype": "text/x-python",
   "name": "python",
   "nbconvert_exporter": "python",
   "pygments_lexer": "ipython3",
   "version": "3.9.1"
  }
 },
 "nbformat": 4,
 "nbformat_minor": 5
}
